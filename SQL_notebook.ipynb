{
 "cells": [
  {
   "cell_type": "markdown",
   "metadata": {
    "vscode": {
     "languageId": "sql"
    }
   },
   "source": [
    "## **Queries SQL para MySQL Server 8.4.0**"
   ]
  },
  {
   "cell_type": "markdown",
   "metadata": {
    "vscode": {
     "languageId": "sql"
    }
   },
   "source": [
    "1. A base possui diversos valores nulos. Preencha nas colunas onde os valores são nulls com 'NAN'."
   ]
  },
  {
   "cell_type": "code",
   "execution_count": null,
   "metadata": {
    "vscode": {
     "languageId": "sql"
    }
   },
   "outputs": [],
   "source": [
    "-- Obtendo uma lista com nomes das colunas\n",
    "SELECT \n",
    "    column_name \n",
    "FROM \n",
    "    INFORMATION_SCHEMA.COLUMNS \n",
    "WHERE \n",
    "    table_name='netflix';"
   ]
  },
  {
   "cell_type": "code",
   "execution_count": null,
   "metadata": {
    "vscode": {
     "languageId": "sql"
    }
   },
   "outputs": [],
   "source": [
    "-- Substituindo NULL por 'NAN'\n",
    "-- COALESCE retorna o valor do segundo parâmetro caso o primeiro seja NULL\n",
    "UPDATE netflix SET cast=COALESCE(cast, 'NAN');\n",
    "UPDATE netflix SET country=COALESCE(country, 'NAN');\n",
    "UPDATE netflix SET date_added=COALESCE(date_added, 'NAN');\n",
    "UPDATE netflix SET director=COALESCE(director, 'NAN');\n",
    "UPDATE netflix SET duration=COALESCE(duration, 'NAN');\n",
    "UPDATE netflix SET listed_in=COALESCE(listed_in, 'NAN');\n",
    "UPDATE netflix SET media_type=COALESCE(media_type, 'NAN');\n",
    "UPDATE netflix SET rating=COALESCE(rating, 'NAN');\n",
    "UPDATE netflix SET release_year=COALESCE(release_year, 'NAN');\n",
    "UPDATE netflix SET show_id=COALESCE(show_id, 'NAN');\n",
    "UPDATE netflix SET synopsis=COALESCE(synopsis, 'NAN');\n",
    "UPDATE netflix SET title=COALESCE(title, 'NAN');"
   ]
  },
  {
   "cell_type": "markdown",
   "metadata": {
    "vscode": {
     "languageId": "sql"
    }
   },
   "source": [
    "2. Normalize a coluna CAST criando uma nova tabela 'cast_table' de modo que tenhamos separadamente, ou seja, uma coluna com o nome do elenco de cada filme. Exemplo:  \n",
    "\n",
    "Linha: n1 joao, maria, roberto  \n",
    "coluna:  \n",
    "id CAST  \n",
    "n1 joao  \n",
    "n1 maria  \n",
    "n1 roberto  "
   ]
  },
  {
   "cell_type": "markdown",
   "metadata": {},
   "source": [
    "3. Normalize a coluna listed_in criando uma nova tabela 'genre_table' de modo que tenhamos separadamente os gêneros de cada programação. Exemplo:  \n",
    "\n",
    "Linha: n1 Ação, Aventura, Comédia  \n",
    "coluna:  \n",
    "n1 Ação  \n",
    "n1 Comédia  \n",
    "n1 Aventura  "
   ]
  },
  {
   "cell_type": "markdown",
   "metadata": {
    "vscode": {
     "languageId": "sql"
    }
   },
   "source": [
    "4. Normalize a coluna date_added em uma nova base 'date_table' e  construa as seguintes colunas:"
   ]
  },
  {
   "cell_type": "markdown",
   "metadata": {
    "vscode": {
     "languageId": "sql"
    }
   },
   "source": [
    "**coluna day: DD**"
   ]
  },
  {
   "cell_type": "code",
   "execution_count": null,
   "metadata": {
    "vscode": {
     "languageId": "sql"
    }
   },
   "outputs": [],
   "source": [
    "-- Criando a coluna day do tipo INT\n",
    "ALTER TABLE netflix\n",
    "ADD COLUMN day INT;\n",
    "\n",
    "/* Sendo a data do tipo 'September 25, 2021'\n",
    "substring_index(date_added,',', 1) obtém o conteúdo até a ocorrência da primeira vírgula (September 25)\n",
    "(substring_index(substring_index(date_added,',', 1),' ', -1)) retorna o primeiro valor após a \n",
    "ocorrência do primeiro espaço em branco (25) */\n",
    "UPDATE netflix\n",
    "SET day = (substring_index(\n",
    "\t\t\tsubstring_index(date_added,',', 1),\n",
    "            ' ', -1))\n",
    "                WHERE date_added != 'NAN';"
   ]
  },
  {
   "cell_type": "markdown",
   "metadata": {},
   "source": [
    "**coluna month: MM**"
   ]
  },
  {
   "cell_type": "code",
   "execution_count": null,
   "metadata": {
    "vscode": {
     "languageId": "sql"
    }
   },
   "outputs": [],
   "source": [
    "-- Criando a coluna month do tipo INT\n",
    "ALTER TABLE netflix\n",
    "ADD COLUMN month INT;\n",
    "\n",
    "/* STR_TO_DATE transforma uma string em uma data formatada e MONTH obtém o número do mês da data \n",
    "WHERE está sendo usado para ignorar os valores 'NAN'*/\n",
    "UPDATE netflix\n",
    "SET month = MONTH(STR_TO_DATE(date_added, '%M %d, %Y'))\n",
    "                WHERE date_added != 'NAN';"
   ]
  },
  {
   "cell_type": "markdown",
   "metadata": {},
   "source": [
    "**coluna year: YY**"
   ]
  },
  {
   "cell_type": "code",
   "execution_count": null,
   "metadata": {
    "vscode": {
     "languageId": "sql"
    }
   },
   "outputs": [],
   "source": [
    "ALTER TABLE netflix\n",
    "ADD COLUMN year INT;\n",
    "\n",
    "UPDATE netflix\n",
    "SET year = YEAR(STR_TO_DATE(date_added, '%M %d, %Y'))\n",
    "                WHERE date_added != 'NAN';"
   ]
  },
  {
   "cell_type": "markdown",
   "metadata": {},
   "source": [
    "**coluna iso_date_1: YYYY-MM-DD**"
   ]
  },
  {
   "cell_type": "code",
   "execution_count": null,
   "metadata": {
    "vscode": {
     "languageId": "sql"
    }
   },
   "outputs": [],
   "source": [
    "ALTER TABLE netflix\n",
    "ADD COLUMN iso_date_1 DATE;\n",
    "\n",
    "UPDATE netflix\n",
    "SET iso_date_1 = date_format(STR_TO_DATE(date_added, '%M %d, %Y'), '%Y-%m-%d') \n",
    "                WHERE date_added != 'NAN';"
   ]
  },
  {
   "cell_type": "markdown",
   "metadata": {},
   "source": [
    "**coluna iso_date_2: YYYY/MM/DD**"
   ]
  },
  {
   "cell_type": "code",
   "execution_count": null,
   "metadata": {
    "vscode": {
     "languageId": "sql"
    }
   },
   "outputs": [],
   "source": [
    "ALTER TABLE netflix\n",
    "ADD COLUMN iso_date_2 VARCHAR(20);\n",
    "\n",
    "UPDATE netflix\n",
    "SET iso_date_2 = date_format(STR_TO_DATE(date_added, '%M %d, %Y'), \"%Y/%m/%d\") \n",
    "                WHERE date_added != 'NAN';"
   ]
  },
  {
   "cell_type": "markdown",
   "metadata": {
    "vscode": {
     "languageId": "sql"
    }
   },
   "source": [
    "**coluna iso_date_3: YYMMDD**"
   ]
  },
  {
   "cell_type": "code",
   "execution_count": null,
   "metadata": {
    "vscode": {
     "languageId": "sql"
    }
   },
   "outputs": [],
   "source": [
    "ALTER TABLE netflix\n",
    "ADD COLUMN iso_date_3 VARCHAR(20);\n",
    "\n",
    "UPDATE netflix\n",
    "SET iso_date_3 = date_format(STR_TO_DATE(date_added, '%M %d, %Y'), '%y%m%d') \n",
    "                WHERE date_added != 'NAN';"
   ]
  },
  {
   "cell_type": "markdown",
   "metadata": {
    "vscode": {
     "languageId": "sql"
    }
   },
   "source": [
    "**coluna iso_date_4: YYYYMMDD**"
   ]
  },
  {
   "cell_type": "code",
   "execution_count": null,
   "metadata": {
    "vscode": {
     "languageId": "sql"
    }
   },
   "outputs": [],
   "source": [
    "ALTER TABLE netflix\n",
    "ADD COLUMN iso_date_4 VARCHAR(20);\n",
    "\n",
    "UPDATE netflix\n",
    "SET iso_date_4 = date_format(STR_TO_DATE(date_added, '%M %d, %Y'), '%Y%m%d') \n",
    "                WHERE date_added != 'NAN';"
   ]
  },
  {
   "cell_type": "markdown",
   "metadata": {
    "vscode": {
     "languageId": "sql"
    }
   },
   "source": [
    "5. Normalize a coluna duration e construa uma nova base 'time_table' e faça as seguintes conversões.\n",
    "- Converta a coluna duration para horas e crie a coluna hours hh. Obs. A média de cada\n",
    "season TV SHOW é 10 horas, assim também converta para horas.  \n",
    "- Converta todas as horas para minutos e armazena na coluna minutes mm.  "
   ]
  },
  {
   "cell_type": "code",
   "execution_count": null,
   "metadata": {
    "vscode": {
     "languageId": "sql"
    }
   },
   "outputs": [],
   "source": [
    "-- Criando a tabela 'time_table'\n",
    "CREATE TABLE projeto.time_table(\n",
    "\t\tshow_id VARCHAR(20),\n",
    "\t\thours FLOAT, \n",
    "        minutes INT\n",
    ");\n",
    "\n",
    "-- Criando a coluna 'hours' na tabela 'netflix'\n",
    "ALTER TABLE netflix\n",
    "ADD COLUMN hours FLOAT;\n",
    "\n",
    "/* Calculando as horas \n",
    "- Temporadas\n",
    "Expressão regular identifica Season ou Seasons e \n",
    "o valor inteiro (vindo antes do espaço em branco) é multiplicado por 10\n",
    "- Minutos \n",
    "Divide o valor inteiro (vindo antes do espaço em branco) por 60 */\n",
    "\n",
    "UPDATE netflix\n",
    "SET hours = \n",
    "    CASE\n",
    "\t\tWHEN LOWER(duration) REGEXP '.*season.*' THEN (SUBSTRING_INDEX(duration, ' ', 1) * 10)\n",
    "        ELSE (SUBSTRING_INDEX(duration, ' ', 1) / 60)\n",
    "    END\n",
    "WHERE duration != 'NAN';\n",
    "\n",
    "-- Criando a coluna 'minutes' na tabela 'netflix'\n",
    "ALTER TABLE netflix\n",
    "ADD COLUMN minutes INT;\n",
    "\n",
    "-- Multiplicando o valor de horas por 60 para obter minutos\n",
    "UPDATE netflix\n",
    "SET minutes = hours * 60\n",
    "WHERE hours IS NOT NULL;\n",
    "\n",
    "-- Inserindo os valores das columas 'show_id', 'hours' e 'minutes' na tabela 'time_table'\n",
    "INSERT INTO time_table(show_id, hours, minutes)\n",
    "SELECT show_id, hours, minutes FROM netflix;\n",
    "\n",
    "-- Removendo as colunas 'hours' e 'minutes' na tabela 'netflix'\n",
    "ALTER TABLE netflix DROP COLUMN hours;\n",
    "ALTER TABLE netflix DROP COLUMN minutes;"
   ]
  },
  {
   "cell_type": "markdown",
   "metadata": {
    "vscode": {
     "languageId": "sql"
    }
   },
   "source": [
    "6. Normalize a coluna country criando uma nova tabela 'country_table' de modo que tenhamos separadamente\n",
    "uma coluna com o nome do país de cada filme."
   ]
  },
  {
   "cell_type": "markdown",
   "metadata": {
    "vscode": {
     "languageId": "sql"
    }
   },
   "source": [
    "7. Qual o filme de duração máxima em minutos?"
   ]
  },
  {
   "cell_type": "code",
   "execution_count": null,
   "metadata": {
    "vscode": {
     "languageId": "sql"
    }
   },
   "outputs": [],
   "source": [
    "/* Obtendo somente o primeiro filme com valor máximo:\n",
    "- Ordena os valores de duração em minutos em ordem decrescente\n",
    "- Obtém o primeiro registro */\n",
    "SELECT \n",
    "    netflix.title, netflix.show_id, time_table.minutes\n",
    "FROM  \n",
    "    time_table\n",
    "LEFT JOIN \n",
    "    netflix \n",
    "ON \n",
    "    time_table.show_id = netflix.show_id\n",
    "WHERE \n",
    "    netflix.media_type = 'Movie'\n",
    "ORDER BY \n",
    "    time_table.minutes DESC\n",
    "LIMIT \n",
    "    1;\n",
    "\n",
    "-- Obtendo todos os filmes com duração igual a máxima\n",
    "\n",
    "/* Obtendo todos os filmes com duração igual a máxima\n",
    "- Obtém o valor máximo para todos os filmes na tabela 'time_table'\n",
    "- Obtém todos os filmes cujo tempo de duração é igual ao valor máximo*/\n",
    "SELECT \n",
    "    netflix.show_id, netflix.title, time_table.minutes\n",
    "FROM \n",
    "    time_table\n",
    "LEFT JOIN \n",
    "    netflix \n",
    "ON \n",
    "    time_table.show_id = netflix.show_id\n",
    "WHERE \n",
    "    netflix.media_type = 'Movie' and time_table.minutes=(\n",
    "    -- Obtendo duração máxima dos filmes\n",
    "    SELECT \n",
    "        max(minutes)\n",
    "    FROM \n",
    "        time_table\n",
    "    LEFT JOIN \n",
    "        netflix\n",
    "    ON \n",
    "        time_table.show_id = netflix.show_id\n",
    "    WHERE \n",
    "    netflix.media_type = 'Movie'\n",
    ");"
   ]
  },
  {
   "cell_type": "markdown",
   "metadata": {
    "vscode": {
     "languageId": "sql"
    }
   },
   "source": [
    "8. Qual o filme de duração mínima em minutos?"
   ]
  },
  {
   "cell_type": "code",
   "execution_count": null,
   "metadata": {
    "vscode": {
     "languageId": "sql"
    }
   },
   "outputs": [],
   "source": [
    "SELECT\n",
    "     netflix.show_id, netflix.title, time_table.minutes\n",
    "FROM\n",
    "     time_table\n",
    "LEFT JOIN\n",
    "     netflix \n",
    "ON\n",
    "     time_table.show_id = netflix.show_id\n",
    "WHERE\n",
    "     netflix.media_type = 'Movie' and time_table.minutes IS NOT NULL\n",
    "ORDER BY\n",
    "     time_table.minutes\n",
    "LIMIT\n",
    "     1;\n",
    "\n",
    "SELECT\n",
    "     netflix.show_id, netflix.title, time_table.minutes\n",
    "FROM\n",
    "     time_table\n",
    "LEFT JOIN\n",
    "     netflix \n",
    "ON\n",
    "     time_table.show_id = netflix.show_id\n",
    "WHERE\n",
    "     netflix.media_type = 'Movie' and time_table.minutes=(\n",
    "    SELECT \n",
    "    min(minutes)\n",
    "    FROM\n",
    "        time_table\n",
    "    LEFT JOIN\n",
    "        netflix\n",
    "    ON\n",
    "        time_table.show_id = netflix.show_id\n",
    "    WHERE\n",
    "        netflix.media_type = 'Movie');"
   ]
  },
  {
   "cell_type": "markdown",
   "metadata": {
    "vscode": {
     "languageId": "sql"
    }
   },
   "source": [
    "9. Qual a série de duração máxima em minutos?"
   ]
  },
  {
   "cell_type": "code",
   "execution_count": null,
   "metadata": {
    "vscode": {
     "languageId": "sql"
    }
   },
   "outputs": [],
   "source": [
    "SELECT\n",
    "    netflix.title, netflix.show_id, time_table.minutes\n",
    "FROM\n",
    "    time_table\n",
    "LEFT JOIN\n",
    "    netflix \n",
    "ON\n",
    "    time_table.show_id = netflix.show_id\n",
    "WHERE\n",
    "    netflix.media_type = 'TV Show'\n",
    "ORDER BY\n",
    "    time_table.minutes DESC\n",
    "LIMIT\n",
    "    1;\n",
    "\n",
    "SELECT\n",
    "    netflix.show_id, netflix.title, time_table.minutes\n",
    "FROM time_table\n",
    "LEFT JOIN\n",
    "    netflix \n",
    "ON\n",
    "    time_table.show_id = netflix.show_id\n",
    "WHERE\n",
    "    netflix.media_type = 'TV Show' and time_table.minutes=(SELECT\n",
    "    max(minutes)\n",
    "FROM\n",
    "    time_table\n",
    "LEFT JOIN\n",
    "    netflix\n",
    "ON\n",
    "    time_table.show_id = netflix.show_id\n",
    "WHERE\n",
    "    netflix.media_type = 'TV Show');"
   ]
  },
  {
   "cell_type": "markdown",
   "metadata": {
    "vscode": {
     "languageId": "sql"
    }
   },
   "source": [
    "10. Qual a série de duração mínima em minutos?"
   ]
  },
  {
   "cell_type": "code",
   "execution_count": null,
   "metadata": {
    "vscode": {
     "languageId": "sql"
    }
   },
   "outputs": [],
   "source": [
    "SELECT\n",
    "    netflix.show_id, netflix.title, time_table.minutes\n",
    "FROM\n",
    "    time_table\n",
    "LEFT JOIN\n",
    "    netflix \n",
    "ON\n",
    "    time_table.show_id = netflix.show_id\n",
    "WHERE\n",
    "    netflix.media_type = 'TV Show' and time_table.minutes IS NOT NULL\n",
    "ORDER BY\n",
    "    time_table.minutes\n",
    "LIMIT\n",
    "    1;\n",
    "\n",
    "SELECT\n",
    "    netflix.show_id, netflix.title, time_table.minutes\n",
    "FROM\n",
    "    time_table\n",
    "LEFT JOIN\n",
    "    netflix \n",
    "ON\n",
    "    time_table.show_id = netflix.show_id\n",
    "WHERE\n",
    "    netflix.media_type = 'TV Show' and time_table.minutes=(\n",
    "    SELECT\n",
    "        min(minutes)\n",
    "    FROM\n",
    "        time_table\n",
    "    LEFT JOIN\n",
    "        netflix\n",
    "    ON\n",
    "        time_table.show_id = netflix.show_id\n",
    "    WHERE\n",
    "        netflix.media_type = 'TV Show');"
   ]
  },
  {
   "cell_type": "markdown",
   "metadata": {
    "vscode": {
     "languageId": "sql"
    }
   },
   "source": [
    "11. Qual a média de tempo de duração dos filmes?"
   ]
  },
  {
   "cell_type": "code",
   "execution_count": null,
   "metadata": {
    "vscode": {
     "languageId": "sql"
    }
   },
   "outputs": [],
   "source": [
    "-- Em minutos\n",
    "SELECT\n",
    "    avg(minutes)\n",
    "FROM\n",
    "    time_table\n",
    "LEFT JOIN\n",
    "    netflix\n",
    "ON\n",
    "    time_table.show_id = netflix.show_id\n",
    "WHERE\n",
    "    netflix.media_type = 'Movie';\n",
    "\n",
    "-- Em horas\n",
    "SELECT\n",
    "    avg(hours)\n",
    "FROM\n",
    "    time_table\n",
    "LEFT JOIN\n",
    "    netflix\n",
    "ON\n",
    "    time_table.show_id = netflix.show_id\n",
    "WHERE\n",
    "    netflix.media_type = 'Movie';"
   ]
  },
  {
   "cell_type": "markdown",
   "metadata": {
    "vscode": {
     "languageId": "sql"
    }
   },
   "source": [
    "12. Qual a média de tempo de duração das séries?"
   ]
  },
  {
   "cell_type": "code",
   "execution_count": null,
   "metadata": {
    "vscode": {
     "languageId": "sql"
    }
   },
   "outputs": [],
   "source": [
    "-- Em minutos\n",
    "SELECT\n",
    "    avg(minutes)\n",
    "FROM\n",
    "    time_table\n",
    "LEFT JOIN\n",
    "    netflix\n",
    "ON\n",
    "    time_table.show_id = netflix.show_id\n",
    "WHERE\n",
    "    netflix.media_type = 'Tv Show';\n",
    "\n",
    "-- Em horas\n",
    "SELECT\n",
    "    avg(hours)\n",
    "FROM\n",
    "    time_table\n",
    "LEFT JOIN\n",
    "    netflix\n",
    "ON\n",
    "    time_table.show_id = netflix.show_id\n",
    "WHERE\n",
    "    netflix.media_type = 'Tv Show';"
   ]
  },
  {
   "cell_type": "markdown",
   "metadata": {
    "vscode": {
     "languageId": "sql"
    }
   },
   "source": [
    "13. Qual a lista de filmes o ator Leonardo DiCaprio participa?"
   ]
  },
  {
   "cell_type": "code",
   "execution_count": null,
   "metadata": {
    "vscode": {
     "languageId": "sql"
    }
   },
   "outputs": [],
   "source": [
    "SELECT\n",
    "    title\n",
    "FROM\n",
    "    netflix\n",
    "WHERE\n",
    "    cast \n",
    "LIKE\n",
    "    '%Leonardo DiCaprio%'\n",
    "AND\n",
    "    media_type='Movie';"
   ]
  },
  {
   "cell_type": "markdown",
   "metadata": {
    "vscode": {
     "languageId": "sql"
    }
   },
   "source": [
    "14. Quantas vezes o ator Tom Hanks apareceu nas telas do netflix, ou seja, tanto série quanto filmes?"
   ]
  },
  {
   "cell_type": "code",
   "execution_count": null,
   "metadata": {
    "vscode": {
     "languageId": "sql"
    }
   },
   "outputs": [],
   "source": [
    "SELECT \n",
    "    count(*)\n",
    "FROM \n",
    "    netflix\n",
    "WHERE \n",
    "    cast LIKE '%Tom Hanks%';"
   ]
  },
  {
   "cell_type": "markdown",
   "metadata": {
    "vscode": {
     "languageId": "sql"
    }
   },
   "source": [
    "15. Quantas produções séries e filmes brasileiras já foram ao ar no netflix?"
   ]
  },
  {
   "cell_type": "code",
   "execution_count": null,
   "metadata": {
    "vscode": {
     "languageId": "sql"
    }
   },
   "outputs": [],
   "source": [
    "-- Contabilizando produções unicamente brasileiras \n",
    "SELECT \n",
    "    count(*)\n",
    "FROM \n",
    "    netflix\n",
    "WHERE \n",
    "    country='Brazil';\n",
    "\n",
    "-- Contabilizando produções que também envolvem outros países além do Brasil\n",
    "SELECT \n",
    "    count(*)\n",
    "FROM \n",
    "    netflix\n",
    "WHERE \n",
    "    country LIKE '%Brazil%';"
   ]
  },
  {
   "cell_type": "markdown",
   "metadata": {
    "vscode": {
     "languageId": "sql"
    }
   },
   "source": [
    "16. Quantos filmes americanos já foram para o ar no netflix?"
   ]
  },
  {
   "cell_type": "code",
   "execution_count": null,
   "metadata": {
    "vscode": {
     "languageId": "sql"
    }
   },
   "outputs": [],
   "source": [
    "SELECT \n",
    "    count(*)\n",
    "FROM \n",
    "    netflix\n",
    "WHERE \n",
    "    country='United States';\n",
    "\n",
    "SELECT \n",
    "    count(*)\n",
    "FROM \n",
    "    netflix\n",
    "WHERE \n",
    "    country LIKE '%United States%';"
   ]
  },
  {
   "cell_type": "markdown",
   "metadata": {
    "vscode": {
     "languageId": "sql"
    }
   },
   "source": [
    "17. Crie uma nova coluna com o nome last_name_director com uma nova formatação para o nome dos diretores, por exemplo. João Roberto para Roberto, João."
   ]
  },
  {
   "cell_type": "markdown",
   "metadata": {
    "vscode": {
     "languageId": "sql"
    }
   },
   "source": [
    "18. Procure a lista de conteúdos que tenha como temática a segunda guerra mundial (WWII)?"
   ]
  },
  {
   "cell_type": "code",
   "execution_count": null,
   "metadata": {
    "vscode": {
     "languageId": "sql"
    }
   },
   "outputs": [],
   "source": [
    "SELECT \n",
    "    title \n",
    "FROM \n",
    "    netflix \n",
    "WHERE \n",
    "    synopsis LIKE '%WWII%';"
   ]
  },
  {
   "cell_type": "markdown",
   "metadata": {
    "vscode": {
     "languageId": "sql"
    }
   },
   "source": [
    "19. Conte o número de produções dos países que apresentaram conteúdos no netflix?"
   ]
  },
  {
   "cell_type": "code",
   "execution_count": null,
   "metadata": {
    "vscode": {
     "languageId": "sql"
    }
   },
   "outputs": [],
   "source": [
    "SELECT \n",
    "    country, count(country) as numero_producoes \n",
    "FROM \n",
    "    netflix \n",
    "GROUP BY\n",
    "    country \n",
    "ORDER BY \n",
    "    country;"
   ]
  }
 ],
 "metadata": {
  "kernelspec": {
   "display_name": "Python 3",
   "language": "python",
   "name": "python3"
  },
  "language_info": {
   "codemirror_mode": {
    "name": "ipython",
    "version": 3
   },
   "file_extension": ".py",
   "mimetype": "text/x-python",
   "name": "python",
   "nbconvert_exporter": "python",
   "pygments_lexer": "ipython3",
   "version": "3.11.1"
  }
 },
 "nbformat": 4,
 "nbformat_minor": 2
}
