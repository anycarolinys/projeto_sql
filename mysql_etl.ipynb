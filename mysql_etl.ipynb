{
 "cells": [
  {
   "cell_type": "code",
   "execution_count": 3,
   "metadata": {},
   "outputs": [],
   "source": [
    "import pandas as pd\n",
    "import os\n",
    "from dotenv import load_dotenv\n",
    "import pymysql"
   ]
  },
  {
   "cell_type": "code",
   "execution_count": 4,
   "metadata": {},
   "outputs": [],
   "source": [
    "netflix = pd.read_csv('./netflix_titles.csv')"
   ]
  },
  {
   "cell_type": "code",
   "execution_count": 5,
   "metadata": {},
   "outputs": [
    {
     "data": {
      "text/plain": [
       "(8807, 12)"
      ]
     },
     "execution_count": 5,
     "metadata": {},
     "output_type": "execute_result"
    }
   ],
   "source": [
    "netflix.shape"
   ]
  },
  {
   "cell_type": "code",
   "execution_count": 6,
   "metadata": {},
   "outputs": [
    {
     "name": "stdout",
     "output_type": "stream",
     "text": [
      "None\n"
     ]
    }
   ],
   "source": [
    "load_dotenv()\n",
    "\n",
    "db_password = os.environ.get('DATABASE_PASSWORD')\n",
    "db_user = os.environ.get('DATABASE_USER')\n",
    "\n",
    "connection = pymysql.connect(host='localhost',\n",
    "                    user=db_user,\n",
    "                    cursorclass=pymysql.cursors.DictCursor,\n",
    "                    password=db_password)\n",
    "cursor = connection.cursor()\n",
    "\n",
    "database = \"CREATE DATABASE PROJETO\"\n",
    "cursor.execute(database)\n",
    "result = cursor.fetchone()\n",
    "print(result)\n",
    "\n",
    "connection.commit()"
   ]
  },
  {
   "cell_type": "code",
   "execution_count": 7,
   "metadata": {},
   "outputs": [
    {
     "name": "stdout",
     "output_type": "stream",
     "text": [
      "None\n"
     ]
    }
   ],
   "source": [
    "table = 'CREATE TABLE projeto.netflix (show_id VARCHAR(1000), \\\n",
    "            media_type VARCHAR(1000), \\\n",
    "            title VARCHAR(1000), \\\n",
    "            director VARCHAR(1000), \\\n",
    "            cast VARCHAR(1000), \\\n",
    "            country VARCHAR(1000), \\\n",
    "            date_added VARCHAR(1000), \\\n",
    "            release_year VARCHAR(1000), \\\n",
    "            rating VARCHAR(1000), \\\n",
    "            duration VARCHAR(1000), \\\n",
    "            listed_in VARCHAR(1000), \\\n",
    "            synopsis VARCHAR(1000));'\n",
    "cursor.execute(table)\n",
    "res = cursor.fetchone()\n",
    "print(res)\n",
    "\n",
    "connection.commit()"
   ]
  },
  {
   "cell_type": "code",
   "execution_count": 8,
   "metadata": {},
   "outputs": [],
   "source": [
    "cols = \",\".join([str(i) for i in netflix.columns.tolist()])\n",
    "\n",
    "for i, row in netflix.iterrows():\n",
    "    insert = \"INSERT INTO projeto.netflix ({}) VALUES {}\".format(cols, tuple(row))\n",
    "    insert = insert.replace('nan','NULL')\n",
    "    cursor.execute(insert)\n",
    "    \n",
    "connection.commit()"
   ]
  }
 ],
 "metadata": {
  "kernelspec": {
   "display_name": "Python 3",
   "language": "python",
   "name": "python3"
  },
  "language_info": {
   "codemirror_mode": {
    "name": "ipython",
    "version": 3
   },
   "file_extension": ".py",
   "mimetype": "text/x-python",
   "name": "python",
   "nbconvert_exporter": "python",
   "pygments_lexer": "ipython3",
   "version": "3.11.1"
  }
 },
 "nbformat": 4,
 "nbformat_minor": 2
}
